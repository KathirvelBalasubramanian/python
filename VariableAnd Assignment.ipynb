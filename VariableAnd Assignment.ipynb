{
 "cells": [
  {
   "cell_type": "code",
   "execution_count": 2,
   "metadata": {},
   "outputs": [
    {
     "name": "stdout",
     "output_type": "stream",
     "text": [
      "Thank you God\n"
     ]
    }
   ],
   "source": [
    "print(\"Thank you God\")"
   ]
  },
  {
   "cell_type": "markdown",
   "metadata": {},
   "source": [
    "# Variables"
   ]
  },
  {
   "cell_type": "code",
   "execution_count": 5,
   "metadata": {},
   "outputs": [
    {
     "name": "stdout",
     "output_type": "stream",
     "text": [
      "12\n"
     ]
    }
   ],
   "source": [
    "num1=5\n",
    "num2=7\n",
    "add=num1+num2\n",
    "print(add)"
   ]
  },
  {
   "cell_type": "code",
   "execution_count": 6,
   "metadata": {},
   "outputs": [
    {
     "name": "stdout",
     "output_type": "stream",
     "text": [
      "The mul of num1 and num2: \n",
      "90\n"
     ]
    }
   ],
   "source": [
    "num1=45\n",
    "num2=2\n",
    "mul=num1*num2\n",
    "print(\"The mul of num1 and num2: \")\n",
    "print(mul)"
   ]
  },
  {
   "cell_type": "code",
   "execution_count": 7,
   "metadata": {},
   "outputs": [
    {
     "name": "stdout",
     "output_type": "stream",
     "text": [
      "The Radius of the circle:  2\n",
      "The pi value is:  3.14\n",
      "The Area of the circle formula: pi*radius*radius\n",
      "The Area of the circle: 12.56\n"
     ]
    }
   ],
   "source": [
    "radius=2\n",
    "pi=3.14\n",
    "area=pi*radius*radius\n",
    "print(\"The Radius of the circle: \",radius)\n",
    "print(\"The pi value is: \",pi)\n",
    "print(\"The Area of the circle formula: pi*radius*radius\")\n",
    "print(\"The Area of the circle:\",area)"
   ]
  }
 ],
 "metadata": {
  "kernelspec": {
   "display_name": "Python 3",
   "language": "python",
   "name": "python3"
  },
  "language_info": {
   "codemirror_mode": {
    "name": "ipython",
    "version": 3
   },
   "file_extension": ".py",
   "mimetype": "text/x-python",
   "name": "python",
   "nbconvert_exporter": "python",
   "pygments_lexer": "ipython3",
   "version": "3.7.4"
  }
 },
 "nbformat": 4,
 "nbformat_minor": 2
}
